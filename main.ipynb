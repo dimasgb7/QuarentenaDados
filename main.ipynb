{
 "cells": [
  {
   "cell_type": "markdown",
   "metadata": {},
   "source": [
    "# Estudo de predição das notas de Linguagem e Códigos baseado nas demais notas do Enem "
   ]
  },
  {
   "cell_type": "code",
   "execution_count": 317,
   "metadata": {},
   "outputs": [],
   "source": [
    "# Código feito por Dimas Germano Brandão Soares Silva\n",
    "# github: https://github.com/dimasgb7  \n",
    "# linkedin: https://www.linkedin.com/in/dimas-silva-201393120/\n",
    "import pandas as pd\n",
    "import matplotlib.pyplot as plt\n",
    "import seaborn as sns\n",
    "\n",
    "URI_TREINO = \"https://github.com/tgcsantos/quaretenadados/blob/master/DADOS_TREINO.csv?raw=true\"\n",
    "URI_TESTE = \"https://github.com/tgcsantos/quaretenadados/raw/master/DADOS_TESTE.csv\"\n",
    "URI_DESAFIOQT = \"https://github.com/tgcsantos/quaretenadados/raw/master/DESAFIOQT.csv\"\n",
    "URI_DADOS_NOVOS = \"https://github.com/dimasgb7/pedinhomeajuda/blob/master/test_data.csv\"\n",
    "\n",
    "dados_treino = pd.read_csv(URI_TREINO)\n",
    "dados_treino.columns = ['CN','CH','LC','MT','REDACAO']\n",
    "\n",
    "dados_teste = pd.read_csv(URI_TESTE)\n",
    "dados_teste.columns = ['CN','CH','LC','MT','REDACAO']\n",
    "\n",
    "dados_desafioqt = pd.read_csv(URI_DESAFIOQT)\n",
    "dados_desafioqt.columns = ['ID','CN','CH','MT','REDACAO']\n",
    "\n",
    "erro_treino = \"Erro ao carregar dados de treino\"\n",
    "erro_teste = \"Erro ao carregar dados de teste\"\n",
    "erro_desafioqt = \"Erro ao carregar dados de submissão\"\n",
    "\n",
    "assert dados_treino.shape == (150000, 5), erro_treino\n",
    "assert dados_teste.shape == (20000, 5), erro_teste\n",
    "assert dados_desafioqt.shape == (10000, 5), erro_desafioqt"
   ]
  },
  {
   "cell_type": "code",
   "execution_count": 318,
   "metadata": {},
   "outputs": [],
   "source": [
    "import numpy as np\n",
    "from sklearn.metrics import mean_squared_error, confusion_matrix, classification_report, accuracy_score\n",
    "from sklearn.model_selection import ParameterGrid\n",
    "from sklearn.model_selection import cross_val_score, GridSearchCV, KFold, RandomizedSearchCV, train_test_split\n",
    "#Baseline Models\n",
    "from sklearn.dummy import DummyRegressor\n",
    "from sklearn.linear_model import LinearRegression\n",
    "#Hardcore Models\n",
    "from sklearn.ensemble import RandomForestRegressor\n",
    "from sklearn.ensemble import GradientBoostingRegressor\n",
    "from xgboost import XGBRegressor, plot_importance\n",
    "from scipy.stats import uniform, randint"
   ]
  },
  {
   "cell_type": "markdown",
   "metadata": {},
   "source": [
    "## Feature Engineering\n",
    "- Explorando algumas features que possam ser relevantes para os algoritimos de decisão;\n",
    "- A média, a soma das notas e o desvio padrão foram escolhidos para uma primeira avaliação;\n",
    "- Agrupar os dados baseado na média das notas disponiveis; "
   ]
  },
  {
   "cell_type": "code",
   "execution_count": 450,
   "metadata": {},
   "outputs": [],
   "source": [
    "def create_features(dados):\n",
    "    mean_list = []\n",
    "    sum_list = []\n",
    "    group_list = []\n",
    "    for index in dados.index:\n",
    "        id_mean = dados.loc[index,['CN','CH','MT'] ].mean()\n",
    "        id_sum = dados.loc[index, ['CN','CH','MT'] ].sum()\n",
    "        mean_list.append(id_mean)\n",
    "        sum_list.append(id_sum)\n",
    "        group = 0\n",
    "        if id_mean > 625:\n",
    "            group = 3\n",
    "        if 500 <= id_mean <= 625:\n",
    "            group = 2\n",
    "        if id_mean < 500:\n",
    "            group = 1\n",
    "        group_list.append(group)\n",
    "        \n",
    "    \n",
    "    mean_list = np.array(mean_list)\n",
    "    sum_list = np.array(sum_list)\n",
    "    group_list = np.array(group_list)\n",
    "\n",
    "    assert mean_list.shape[0] == dados.shape[0]\n",
    "    assert sum_list.shape[0] == dados.shape[0]\n",
    "    assert group_list.shape[0] == dados.shape[0]\n",
    "    \n",
    "    return mean_list,sum_list,group_list\n",
    "\n",
    "def add_log(dados):\n",
    "    dados['CN_log+1'] = (dados['CN']+1).transform(np.log)\n",
    "    dados['CH_log+1'] = (dados['CH']+1).transform(np.log)\n",
    "    dados['MT_log+1'] = (dados['MT']+1).transform(np.log)\n",
    "    dados['REDACAO_log+1'] = (dados['REDACAO']+1).transform(np.log)\n",
    "    dados['MEDIA_log+1'] = (dados['MEDIA']+1).transform(np.log)"
   ]
  },
  {
   "cell_type": "code",
   "execution_count": 353,
   "metadata": {},
   "outputs": [],
   "source": [
    "mean_list,sum_list,group_list = create_features(dados_treino)\n",
    "dados_treino['MEDIA'] = mean_list\n",
    "dados_treino['SUM'] = sum_list\n",
    "dados_treino['bin'] = group_list"
   ]
  },
  {
   "cell_type": "code",
   "execution_count": 354,
   "metadata": {},
   "outputs": [],
   "source": [
    "mean_list,sum_list,group_list = create_features(dados_teste)\n",
    "dados_teste['MEDIA'] = mean_list\n",
    "dados_teste['SUM'] = sum_list\n",
    "dados_teste['bin'] = group_list"
   ]
  },
  {
   "cell_type": "code",
   "execution_count": 355,
   "metadata": {},
   "outputs": [],
   "source": [
    "mean_list,sum_list,group_list = create_features(dados_desafioqt)\n",
    "dados_desafioqt['MEDIA'] = mean_list\n",
    "dados_desafioqt['SUM'] = sum_list\n",
    "dados_desafioqt['bin'] = group_list"
   ]
  },
  {
   "cell_type": "code",
   "execution_count": 451,
   "metadata": {},
   "outputs": [],
   "source": [
    "add_log(dados_treino)\n",
    "add_log(dados_teste)\n",
    "add_log(dados_desafioqt)"
   ]
  },
  {
   "cell_type": "code",
   "execution_count": 356,
   "metadata": {},
   "outputs": [
    {
     "data": {
      "text/plain": [
       "<matplotlib.axes._subplots.AxesSubplot at 0x7f98a8dd9080>"
      ]
     },
     "execution_count": 356,
     "metadata": {},
     "output_type": "execute_result"
    },
    {
     "data": {
      "image/png": "[encoded data removed]",
      "text/plain": [
       "<Figure size 1152x648 with 1 Axes>"
      ]
     },
     "metadata": {},
     "output_type": "display_data"
    }
   ],
   "source": [
    "plt.figure(figsize=(16,9))\n",
    "sns.distplot(dados_treino['LC'], kde=False, bins=20,label='Y_teste')\n",
    "\n",
    "sns.distplot(dados_treino['MEDIA'], kde=False, bins=20,label='Y_teste')"
   ]
  },
  {
   "cell_type": "code",
   "execution_count": 544,
   "metadata": {},
   "outputs": [],
   "source": [
    "up = 0.95\n",
    "low = 0.0\n",
    "lc_upper_lim = dados_treino['LC'].quantile(0.95)\n",
    "lc_lower_lim = dados_treino['LC'].quantile(0.05)\n",
    "\n",
    "ch_upper_lim = dados_treino['CH'].quantile(up)\n",
    "ch_lower_lim = dados_treino['CH'].quantile(low)\n",
    "\n",
    "cn_upper_lim = dados_treino['CN'].quantile(up)\n",
    "cn_lower_lim = dados_treino['CN'].quantile(low)\n",
    "\n",
    "mt_upper_lim = dados_treino['MT'].quantile(up)\n",
    "mt_lower_lim = dados_treino['MT'].quantile(low)\n",
    "\n",
    "red_upper_lim = dados_treino['REDACAO'].quantile(up)\n",
    "red_lower_lim = dados_treino['REDACAO'].quantile(low)"
   ]
  },
  {
   "cell_type": "code",
   "execution_count": 545,
   "metadata": {
    "scrolled": true
   },
   "outputs": [
    {
     "data": {
      "text/plain": [
       "(150000, 13)"
      ]
     },
     "metadata": {},
     "output_type": "display_data"
    },
    {
     "data": {
      "text/plain": [
       "(3210, 13)"
      ]
     },
     "metadata": {},
     "output_type": "display_data"
    },
    {
     "data": {
      "text/plain": [
       "(149822, 13)"
      ]
     },
     "metadata": {},
     "output_type": "display_data"
    },
    {
     "data": {
      "text/plain": [
       "(132205, 13)"
      ]
     },
     "metadata": {},
     "output_type": "display_data"
    }
   ],
   "source": [
    "#DATA TWEAKS\n",
    "dados_treino_zeros = dados_treino[((dados_treino['CN'] == 0.0) | (dados_treino['CH'] == 0.0) |\n",
    "             (dados_treino['LC'] == 0.0) | (dados_treino['MT'] == 0.0) | (dados_treino['REDACAO'] == 0.0))]\n",
    "\n",
    "dados_treino_sem_zeros = dados_treino[  (dados_treino['CN'] > 0.0) & \n",
    "                                            (dados_treino['CH'] > 0.0) &\n",
    "                                            #(dados_treino['LC'] > 0.0) & \n",
    "                                            #(dados_treino['REDACAO'] > 0.0)&\n",
    "                                            (dados_treino['MT'] > 0.0)  ]\n",
    "\n",
    "\n",
    "dados_treino_limites = dados_treino[        (cn_lower_lim <= dados_treino['CN']) & (dados_treino['CN'] < cn_upper_lim) & \n",
    "                                            (ch_lower_lim <= dados_treino['CH']) & (dados_treino['CH'] < ch_upper_lim) &\n",
    "                                            (red_lower_lim <= dados_treino['REDACAO']) & (dados_treino['REDACAO'] < red_upper_lim) &\n",
    "                                            (lc_lower_lim <= dados_treino['LC']) & (dados_treino['LC'] < cn_upper_lim) & \n",
    "                                            (mt_lower_lim <= dados_treino['MT']) & (dados_treino['MT'] < mt_upper_lim)  ]\n",
    "\n",
    "dados_treino_limites_log = dados_treino[    (cn_lower_lim < dados_treino['CN_log+1']) & (dados_treino['CN_log+1'] < cn_upper_lim) & \n",
    "                                            (ch_lower_lim < dados_treino['CH_log+1']) & (dados_treino['CH_log+1'] < ch_upper_lim) &\n",
    "                                            (dados_treino['REDACAO_log+1'] < red_upper_lim) &\n",
    "                                            (lc_lower_lim < dados_treino['LC']) & (dados_treino['LC'] < cn_upper_lim) & \n",
    "                                            (mt_lower_lim < dados_treino['MT_log+1']) & (dados_treino['MT_log+1'] < mt_upper_lim)  ]\n",
    "\n",
    "#Verificando se as modificações ocorreram baseado no formato do dados\n",
    "display(dados_treino.shape)\n",
    "display(dados_treino_zeros.shape)\n",
    "display(dados_treino_sem_zeros.shape)\n",
    "display(dados_treino_limites_log.shape)\n"
   ]
  },
  {
   "cell_type": "markdown",
   "metadata": {},
   "source": [
    "## Dividindo dados em treino e teste e escolhendo as features"
   ]
  },
  {
   "cell_type": "code",
   "execution_count": 553,
   "metadata": {},
   "outputs": [],
   "source": [
    "np.random.seed(43267)\n",
    "coluna_label = 'LC'\n",
    "coluna_features = ['CN', 'CH', 'MT', 'REDACAO']\n",
    "coluna_NR = ['MEDIA_log+1','bin']\n",
    "coluna_log  = ['CN_log+1','CH_log+1','MT_log+1','REDACAO_log+1']\n",
    "coluna_F = coluna_log + coluna_NR\n",
    "\n",
    "X_treino = dados_treino[coluna_F].to_numpy()\n",
    "Y_treino = dados_treino[coluna_label].to_numpy()\n",
    "X_teste = dados_teste[coluna_F].to_numpy()\n",
    "Y_teste = dados_teste[coluna_label].to_numpy()"
   ]
  },
  {
   "cell_type": "code",
   "execution_count": 473,
   "metadata": {},
   "outputs": [],
   "source": [
    "def display_scores(scores):\n",
    "    print('MSE Scores: {}'.format(scores))\n",
    "    print('Mse Mean: {} '.format(np.mean(scores)))\n",
    "    print('MSE std: {}'.format(np.std(scores)))\n",
    "    \n",
    "def plot_scatter(predicao):\n",
    "    plt.figure(figsize=(9,6))\n",
    "    sns.set_style('darkgrid')\n",
    "    sns.scatterplot(x=X_teste[:,1],y=Y_teste, color='blue')\n",
    "    sns.scatterplot(x=X_teste[:,1],y=predicao, color='red')\n",
    "    plt.show()\n",
    "def plot_dist(predicao):\n",
    "    plt.figure(figsize=(9,6))\n",
    "    sns.distplot(Y_teste, kde=False, bins=20, label='Y_teste')\n",
    "    sns.distplot(predicao, kde=False, bins=20, label='predicao')\n",
    "    plt.legend()\n",
    "    plt.show()\n",
    "    \n",
    "def report_best_scores(results, n_top=3):\n",
    "    for i in range(1, n_top + 1):\n",
    "        candidates = np.flatnonzero(results['rank_test_score'] == i)\n",
    "        for candidate in candidates:\n",
    "            print(\"Model with rank: {0}\".format(i))\n",
    "            print(\"Mean validation score: {0:.3f} (std: {1:.3f})\".format(\n",
    "                  results['mean_test_score'][candidate],\n",
    "                  results['std_test_score'][candidate]))\n",
    "            print(\"Parameters: {0}\".format(results['params'][candidate]))\n",
    "            print(\"\")"
   ]
  },
  {
   "cell_type": "markdown",
   "metadata": {},
   "source": [
    "## BASELINE"
   ]
  },
  {
   "cell_type": "code",
   "execution_count": 533,
   "metadata": {
    "scrolled": false
   },
   "outputs": [
    {
     "name": "stdout",
     "output_type": "stream",
     "text": [
      "MSE Scores: [72.307897 72.307897 72.307897]\n",
      "Mse Mean: 72.30789700382394 \n",
      "MSE std: 0.0\n"
     ]
    },
    {
     "data": {
      "image/png": "[encoded data removed]",
      "text/plain": [
       "<Figure size 648x432 with 1 Axes>"
      ]
     },
     "metadata": {},
     "output_type": "display_data"
    }
   ],
   "source": [
    "scores = []\n",
    "np.random.seed(43267)\n",
    "for en in range(1,4):\n",
    "    modelo = DummyRegressor()\n",
    "    modelo.fit(X_treino, Y_treino)\n",
    "    predicao = modelo.predict(X_teste)\n",
    "    mse = mean_squared_error(Y_teste, predicao)\n",
    "    scores.append(mse)\n",
    "display_scores(np.sqrt(scores))\n",
    "plot_scatter(predicao)"
   ]
  },
  {
   "cell_type": "code",
   "execution_count": 551,
   "metadata": {
    "scrolled": false
   },
   "outputs": [
    {
     "name": "stdout",
     "output_type": "stream",
     "text": [
      "MSE Scores: [47.99947201 47.99947201 47.99947201 47.99947201]\n",
      "Mse Mean: 47.99947200791774 \n",
      "MSE std: 0.0\n"
     ]
    },
    {
     "data": {
      "image/png": "[encoded data removed]",
      "text/plain": [
       "<Figure size 648x432 with 1 Axes>"
      ]
     },
     "metadata": {},
     "output_type": "display_data"
    }
   ],
   "source": [
    "scores = []\n",
    "predicoes = []\n",
    "mse = 0\n",
    "for coco in range(0,4):\n",
    "    modelo = LinearRegression()\n",
    "    modelo.fit(X_treino, Y_treino)\n",
    "    predicao = modelo.predict(X_teste)\n",
    "    predicoes.append(predicao)\n",
    "    mse = mean_squared_error(Y_teste, predicao)\n",
    "    scores.append(mse)\n",
    "display_scores(np.sqrt(scores))\n",
    "plot_scatter(predicao)"
   ]
  },
  {
   "cell_type": "markdown",
   "metadata": {},
   "source": [
    "## GRADIENT BOOSTING REGRESSOR"
   ]
  },
  {
   "cell_type": "code",
   "execution_count": 568,
   "metadata": {
    "scrolled": false
   },
   "outputs": [
    {
     "name": "stdout",
     "output_type": "stream",
     "text": [
      "MSE Scores: [2044.3438323350072, 2044.3438323350072, 2044.3438323350072, 2044.3438323350072, 2044.3438323350072]\n",
      "Mse Mean: 2044.343832335007 \n",
      "MSE std: 2.2737367544323206e-13\n"
     ]
    },
    {
     "data": {
      "image/png": "[encoded data removed]",
      "text/plain": [
       "<Figure size 648x432 with 1 Axes>"
      ]
     },
     "metadata": {},
     "output_type": "display_data"
    },
    {
     "data": {
      "image/png": "[encoded data removed]",
      "text/plain": [
       "<Figure size 648x432 with 1 Axes>"
      ]
     },
     "metadata": {},
     "output_type": "display_data"
    }
   ],
   "source": [
    "rank1 = {'n_estimators': 64, \n",
    "         'max_features': 2, \n",
    "         'max_depth': 4.0, \n",
    "         'learning_rate': 0.1} #45.315\n",
    "test_params = {'loss': 'ls', \n",
    "               'learning_rate': 0.1, \n",
    "               'n_estimators':64, \n",
    "               'max_depth':5,'max_features':2} #45.37\n",
    "best0 = {\n",
    "    'learning_rate' : 0.03, \n",
    "    'n_estimators': 675, \n",
    "    'min_samples_split': 33, \n",
    "    'min_samples_leaf': 70,\n",
    "    'random_state': 42}\n",
    "\n",
    "best1 = {\n",
    "    'learning_rate' : 0.1, \n",
    "    'n_estimators': 675, \n",
    "    'min_samples_split': 33, \n",
    "    'max_depth': 4.0,\n",
    "    'max_features':2,\n",
    "    'min_samples_leaf': 70,\n",
    "    'random_state': 42}\n",
    "\n",
    "\n",
    "scores = []\n",
    "predicoes = []\n",
    "for en in range(1,6):\n",
    "    modelo = GradientBoostingRegressor(**best0)\n",
    "    modelo.fit(X_treino, Y_treino)\n",
    "    predicao = modelo.predict(X_teste)\n",
    "    predicoes.append(predicao)\n",
    "    mse = mean_squared_error(Y_teste, predicao)\n",
    "    scores.append(mse)\n",
    "display_scores(scores)\n",
    "plot_scatter(predicoes[scores.index(min(scores))])\n",
    "plot_dist(predicoes[scores.index(min(scores))])"
   ]
  },
  {
   "cell_type": "code",
   "execution_count": null,
   "metadata": {},
   "outputs": [],
   "source": [
    "#Hyper Parameters Search\n",
    "modelo = GradientBoostingRegressor()\n",
    "params = {\n",
    "    \"learning_rate\": [1, 0.5, 0.25, 0.1, 0.05, 0.01],\n",
    "    \"n_estimators\": [1, 2, 4, 8, 16, 32, 64, 100, 200],\n",
    "    \"max_depth\": np.linspace(1, 32, 32, endpoint=True), \n",
    "    \"max_features\": range(1,X_treino.shape[1])\n",
    "}\n",
    "\n",
    "search = RandomizedSearchCV(modelo, param_distributions=params, random_state=42, n_iter=200, cv=3, verbose=1, n_jobs=1, return_train_score=True)\n",
    "search.fit(X_treino, Y_treino)\n",
    "report_best_scores(search.cv_results_, 1)"
   ]
  },
  {
   "cell_type": "markdown",
   "metadata": {},
   "source": [
    "## XGB REGRESSOR"
   ]
  },
  {
   "cell_type": "code",
   "execution_count": null,
   "metadata": {},
   "outputs": [],
   "source": [
    "#XGB REGRESSOR\n",
    "scores = []\n",
    "predicoes = []\n",
    "rank1 = {'colsample_bytree': 0.8808345646069895, \n",
    "         'gamma': 0.13547882125756494, \n",
    "         'learning_rate': 0.06995553756712491, \n",
    "         'max_depth': 4, 'n_estimators': 105, \n",
    "         'subsample': 0.9799199653167696} #45.78\n",
    "rank2 = {'colsample_bytree': 0.8935310086091695, \n",
    "         'gamma': 0.3344620298315498, \n",
    "         'learning_rate': 0.28925026952157096, \n",
    "         'max_depth': 5, 'n_estimators': 147, \n",
    "         'subsample': 0.7123089449763423} #45.78\n",
    "new_rank = {'colsample_bytree': 0.9266653415629146, 'gamma': 0.11439908274581123, 'learning_rate': 0.053093972948637894, 'max_depth': 4, 'n_estimators': 121, 'subsample': 0.9521871356061031}\n",
    "\n",
    "for en in range(1,6):\n",
    "    modelo = XGBRegressor(objective=\"reg:squarederror\",random_state = 42, param_grid = new_rank)\n",
    "    modelo.fit(X_treino, Y_treino)\n",
    "    predicao = modelo.predict(X_teste)\n",
    "    predicoes.append(predicao)\n",
    "    scores.append(mean_squared_error(Y_teste, predicao))\n",
    "display_scores(np.sqrt(scores))\n",
    "plot_scatter(predicoes[0])\n",
    "plot_dist(predicoes[scores.index(min(scores))])"
   ]
  },
  {
   "cell_type": "code",
   "execution_count": null,
   "metadata": {},
   "outputs": [],
   "source": [
    "#HyperParameter Search\n",
    "\n",
    "modelo = XGBRegressor(objective=\"reg:squarederror\", random_state = 42)\n",
    "params = {\n",
    "    \"colsample_bytree\": uniform(0.7, 0.3),\n",
    "    \"gamma\": uniform(0, 0.5),\n",
    "    \"learning_rate\": uniform(0.03, 0.3), # default 0.1 \n",
    "    \"max_depth\": randint(2, 6), # default 3\n",
    "    \"n_estimators\": randint(100, 150), # default 100\n",
    "    \"subsample\": uniform(0.6, 0.4)\n",
    "}\n",
    "\n",
    "search = RandomizedSearchCV(modelo, param_distributions=params, random_state=42, n_iter=200, cv=3, verbose=1, n_jobs=1, return_train_score=True)\n",
    "\n",
    "search.fit(X_treino, Y_treino)\n",
    "\n",
    "report_best_scores(search.cv_results_, 1)"
   ]
  },
  {
   "cell_type": "markdown",
   "metadata": {},
   "source": [
    "## SAVE MODEL RESULT TO CSV FILE"
   ]
  },
  {
   "cell_type": "code",
   "execution_count": 566,
   "metadata": {},
   "outputs": [],
   "source": [
    "#atribuir ao MODELO o nome do seu melhor modelo\n",
    "#from google.colab import files\n",
    "\n",
    "MODELO = modelo\n",
    "X_desafioqt = dados_desafioqt[coluna_F].to_numpy()\n",
    "predicao_desafioqt = MODELO.predict(X_desafioqt)\n",
    "\n",
    "\n",
    "desafio_df = pd.DataFrame(dados_desafioqt.ID)\n",
    "desafio_df['NU_NOTA_LC'] = predicao_desafioqt\n",
    "\n",
    "#NÃO TROCAR O NOME DO ARQUIVO DE SAÍDA (PREDICAO_DESAFIO)\n",
    "desafio_df.to_csv('PREDICAO_DESAFIOQT.csv', index=False) \n",
    "#files.download('PREDICAO_DESAFIOQT.csv')"
   ]
  },
  {
   "cell_type": "code",
   "execution_count": 567,
   "metadata": {},
   "outputs": [
    {
     "data": {
      "text/html": [
       "<div>\n",
       "<style scoped>\n",
       "    .dataframe tbody tr th:only-of-type {\n",
       "        vertical-align: middle;\n",
       "    }\n",
       "\n",
       "    .dataframe tbody tr th {\n",
       "        vertical-align: top;\n",
       "    }\n",
       "\n",
       "    .dataframe thead th {\n",
       "        text-align: right;\n",
       "    }\n",
       "</style>\n",
       "<table border=\"1\" class=\"dataframe\">\n",
       "  <thead>\n",
       "    <tr style=\"text-align: right;\">\n",
       "      <th></th>\n",
       "      <th>ID</th>\n",
       "      <th>NU_NOTA_LC</th>\n",
       "    </tr>\n",
       "  </thead>\n",
       "  <tbody>\n",
       "    <tr>\n",
       "      <th>0</th>\n",
       "      <td>0</td>\n",
       "      <td>505.054581</td>\n",
       "    </tr>\n",
       "    <tr>\n",
       "      <th>1</th>\n",
       "      <td>1</td>\n",
       "      <td>583.813742</td>\n",
       "    </tr>\n",
       "    <tr>\n",
       "      <th>2</th>\n",
       "      <td>2</td>\n",
       "      <td>519.660915</td>\n",
       "    </tr>\n",
       "    <tr>\n",
       "      <th>3</th>\n",
       "      <td>3</td>\n",
       "      <td>463.960975</td>\n",
       "    </tr>\n",
       "    <tr>\n",
       "      <th>4</th>\n",
       "      <td>4</td>\n",
       "      <td>529.476698</td>\n",
       "    </tr>\n",
       "    <tr>\n",
       "      <th>...</th>\n",
       "      <td>...</td>\n",
       "      <td>...</td>\n",
       "    </tr>\n",
       "    <tr>\n",
       "      <th>9995</th>\n",
       "      <td>9995</td>\n",
       "      <td>518.920671</td>\n",
       "    </tr>\n",
       "    <tr>\n",
       "      <th>9996</th>\n",
       "      <td>9996</td>\n",
       "      <td>465.839313</td>\n",
       "    </tr>\n",
       "    <tr>\n",
       "      <th>9997</th>\n",
       "      <td>9997</td>\n",
       "      <td>529.320436</td>\n",
       "    </tr>\n",
       "    <tr>\n",
       "      <th>9998</th>\n",
       "      <td>9998</td>\n",
       "      <td>579.323897</td>\n",
       "    </tr>\n",
       "    <tr>\n",
       "      <th>9999</th>\n",
       "      <td>9999</td>\n",
       "      <td>504.144279</td>\n",
       "    </tr>\n",
       "  </tbody>\n",
       "</table>\n",
       "<p>10000 rows × 2 columns</p>\n",
       "</div>"
      ],
      "text/plain": [
       "        ID  NU_NOTA_LC\n",
       "0        0  505.054581\n",
       "1        1  583.813742\n",
       "2        2  519.660915\n",
       "3        3  463.960975\n",
       "4        4  529.476698\n",
       "...    ...         ...\n",
       "9995  9995  518.920671\n",
       "9996  9996  465.839313\n",
       "9997  9997  529.320436\n",
       "9998  9998  579.323897\n",
       "9999  9999  504.144279\n",
       "\n",
       "[10000 rows x 2 columns]"
      ]
     },
     "execution_count": 567,
     "metadata": {},
     "output_type": "execute_result"
    }
   ],
   "source": [
    "desafio_df"
   ]
  }
 ],
 "metadata": {
  "kernelspec": {
   "display_name": "Python 3",
   "language": "python",
   "name": "python3"
  },
  "language_info": {
   "codemirror_mode": {
    "name": "ipython",
    "version": 3
   },
   "file_extension": ".py",
   "mimetype": "text/x-python",
   "name": "python",
   "nbconvert_exporter": "python",
   "pygments_lexer": "ipython3",
   "version": "3.7.3"
  }
 },
 "nbformat": 4,
 "nbformat_minor": 4
}
